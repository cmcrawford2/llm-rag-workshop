{
 "cells": [
  {
   "cell_type": "code",
   "execution_count": 1,
   "id": "f3685c74-afc2-4f95-89c5-cafbc7115e5b",
   "metadata": {},
   "outputs": [],
   "source": [
    "from openai import OpenAI"
   ]
  },
  {
   "cell_type": "code",
   "execution_count": 2,
   "id": "abec867e-2714-4e39-af6e-22ff5ff22cd9",
   "metadata": {},
   "outputs": [],
   "source": [
    "client = OpenAI()"
   ]
  },
  {
   "cell_type": "code",
   "execution_count": 7,
   "id": "df6ce4c6-5d8b-4cea-89c0-b6d564e2c95e",
   "metadata": {},
   "outputs": [],
   "source": [
    "response = client.chat.completions.create(\n",
    "    model='gpt-4o',\n",
    "    messages=[{\"role\": \"user\", \"content\": \"is it too late to join the course?\"}]\n",
    ")"
   ]
  },
  {
   "cell_type": "code",
   "execution_count": 9,
   "id": "cefa1454-d35e-4a59-ae83-f4a512faaaf4",
   "metadata": {},
   "outputs": [
    {
     "data": {
      "text/plain": [
       "\"The answer to whether it's too late to join a course depends on several factors, including the specific course's registration deadlines, the policies of the institution offering the course, and how far along the course is. Here are some steps you can take to find out:\\n\\n1. **Check the Course Website**: The course's official website or the institution's course catalog will often have information about registration deadlines and add/drop periods.\\n\\n2. **Contact the Instructor or Advisor**: Reach out to the course instructor or an academic advisor. They can provide information on whether it's still possible to join and what steps you need to take if it's permitted.\\n\\n3. **Institution Policies**: Some institutions have late registration periods or allow students to add courses during the first week or two of the term. Check your institution's policy on late enrollment.\\n\\n4. **Self-Paced Courses**: If the course is self-paced, it may have more flexible enrollment deadlines, allowing you to join at any time.\\n\\n5. **Online Platforms**: For courses on platforms like Coursera, edX, or Udemy, you may start anytime, as many of these courses are available on-demand.\\n\\nRemember to also consider the course workload and catch-up requirements, as joining late may require extra effort to get up to speed.\""
      ]
     },
     "execution_count": 9,
     "metadata": {},
     "output_type": "execute_result"
    }
   ],
   "source": [
    "response.choices[0].message.content"
   ]
  },
  {
   "cell_type": "code",
   "execution_count": null,
   "id": "6a4ed72c-6409-443d-890e-3999fca9f497",
   "metadata": {},
   "outputs": [],
   "source": []
  }
 ],
 "metadata": {
  "kernelspec": {
   "display_name": "Python 3 (ipykernel)",
   "language": "python",
   "name": "python3"
  },
  "language_info": {
   "codemirror_mode": {
    "name": "ipython",
    "version": 3
   },
   "file_extension": ".py",
   "mimetype": "text/x-python",
   "name": "python",
   "nbconvert_exporter": "python",
   "pygments_lexer": "ipython3",
   "version": "3.10.13"
  }
 },
 "nbformat": 4,
 "nbformat_minor": 5
}
